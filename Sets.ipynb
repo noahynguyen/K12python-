{
 "cells": [
  {
   "cell_type": "markdown",
   "id": "a0842923",
   "metadata": {},
   "source": [
    "# Python Sets"
   ]
  },
  {
   "cell_type": "markdown",
   "id": "06415c39",
   "metadata": {},
   "source": [
    "\n",
    "## What is a Set?\n",
    "\n",
    "A **set** in Python is a collection of **unique** items. That means a set cannot have duplicate values. Sets are **unordered**, so the items do not have a fixed position, and you cannot access them by index like in a list or tuple.\n"
   ]
  },
  {
   "cell_type": "code",
   "execution_count": 8,
   "id": "086a53cc",
   "metadata": {},
   "outputs": [
    {
     "name": "stdout",
     "output_type": "stream",
     "text": [
      "{1, 2, 3, 4, 5}\n"
     ]
    }
   ],
   "source": [
    "\n",
    "# Creating a simple set\n",
    "my_set = {1, 2, 3, 4, 5}\n",
    "print(my_set)\n"
   ]
  },
  {
   "cell_type": "markdown",
   "id": "eb92ea34",
   "metadata": {},
   "source": [
    "\n",
    "### Key Characteristics of Sets\n",
    "\n",
    "- **Unordered**: No guaranteed order of items.\n",
    "- **No duplicates**: Each item appears only once.\n",
    "- **Mutable**: You can add or remove items after the set is created.\n"
   ]
  },
  {
   "cell_type": "code",
   "execution_count": 9,
   "id": "d3d7ad30",
   "metadata": {},
   "outputs": [
    {
     "name": "stdout",
     "output_type": "stream",
     "text": [
      "{1, 2, 3, 4, 5}\n"
     ]
    }
   ],
   "source": [
    "\n",
    "# Duplicate items will be removed\n",
    "my_set = {1, 2, 2, 3, 4, 4, 5}\n",
    "print(my_set)  # Output will not have duplicates\n"
   ]
  },
  {
   "cell_type": "markdown",
   "id": "3877e7e7",
   "metadata": {},
   "source": [
    "\n",
    "## Creating a Set\n",
    "\n",
    "You can create a set using curly braces `{}` or the built-in `set()` function.\n"
   ]
  },
  {
   "cell_type": "code",
   "execution_count": 10,
   "id": "f5865462",
   "metadata": {},
   "outputs": [
    {
     "name": "stdout",
     "output_type": "stream",
     "text": [
      "{10, 20, 30}\n"
     ]
    }
   ],
   "source": [
    "\n",
    "# Using set() function\n",
    "my_set = set([10, 20, 30])\n",
    "print(my_set)\n"
   ]
  },
  {
   "cell_type": "markdown",
   "id": "8266afd1",
   "metadata": {},
   "source": [
    "\n",
    "## Adding Items to a Set\n",
    "\n",
    "You can add one item using `add()` or multiple items using `update()`.\n"
   ]
  },
  {
   "cell_type": "code",
   "execution_count": 11,
   "id": "0517146f",
   "metadata": {},
   "outputs": [
    {
     "name": "stdout",
     "output_type": "stream",
     "text": [
      "{'apple', 'cherry', 'banana'}\n",
      "{'apple', 'grape', 'orange', 'banana', 'cherry'}\n"
     ]
    }
   ],
   "source": [
    "\n",
    "# Adding items\n",
    "fruits = {\"apple\", \"banana\"}\n",
    "fruits.add(\"cherry\")\n",
    "print(fruits)\n",
    "\n",
    "# Adding multiple items\n",
    "fruits.update([\"orange\", \"grape\"])\n",
    "print(fruits)\n"
   ]
  },
  {
   "cell_type": "markdown",
   "id": "d5814547",
   "metadata": {},
   "source": [
    "\n",
    "## Removing Items from a Set\n",
    "\n",
    "You can remove items using:\n",
    "- `remove()` – removes a specific item; causes an error if not found.\n",
    "- `discard()` – removes a specific item; does not cause an error if not found.\n",
    "- `pop()` – removes a random item.\n",
    "- `clear()` – removes all items.\n"
   ]
  },
  {
   "cell_type": "code",
   "execution_count": 12,
   "id": "6b93cb21",
   "metadata": {},
   "outputs": [
    {
     "name": "stdout",
     "output_type": "stream",
     "text": [
      "{1, 3, 4}\n",
      "{1, 3, 4}\n",
      "Removed: 1\n",
      "{3, 4}\n",
      "set()\n"
     ]
    }
   ],
   "source": [
    "\n",
    "# Removing with remove()\n",
    "numbers = {1, 2, 3, 4}\n",
    "numbers.remove(2)\n",
    "print(numbers)\n",
    "\n",
    "# Using discard()\n",
    "numbers.discard(5)  # Does not throw an error\n",
    "print(numbers)\n",
    "\n",
    "# Pop removes a random item\n",
    "removed = numbers.pop()\n",
    "print(\"Removed:\", removed)\n",
    "print(numbers)\n",
    "\n",
    "# Clear all items\n",
    "numbers.clear()\n",
    "print(numbers)\n"
   ]
  },
  {
   "cell_type": "markdown",
   "id": "325c85fa",
   "metadata": {},
   "source": [
    "\n",
    "## Set Operations\n",
    "\n",
    "Python provides several useful operations for working with sets:\n",
    "- `union()` or `|`\n",
    "- `intersection()` or `&`\n",
    "- `difference()` or `-`\n",
    "- `symmetric_difference()` or `^`\n"
   ]
  },
  {
   "cell_type": "code",
   "execution_count": 13,
   "id": "90a78eed",
   "metadata": {},
   "outputs": [
    {
     "name": "stdout",
     "output_type": "stream",
     "text": [
      "Union: {1, 2, 3, 4, 5}\n",
      "Intersection: {3}\n",
      "Difference (A - B): {1, 2}\n",
      "Symmetric Difference: {1, 2, 4, 5}\n"
     ]
    }
   ],
   "source": [
    "\n",
    "A = {1, 2, 3}\n",
    "B = {3, 4, 5}\n",
    "\n",
    "print(\"Union:\", A | B)  # {1, 2, 3, 4, 5}\n",
    "print(\"Intersection:\", A & B)  # {3}\n",
    "print(\"Difference (A - B):\", A - B)  # {1, 2}\n",
    "print(\"Symmetric Difference:\", A ^ B)  # {1, 2, 4, 5}\n"
   ]
  },
  {
   "cell_type": "markdown",
   "id": "93859fb4",
   "metadata": {},
   "source": [
    "\n",
    "## Checking Membership\n",
    "\n",
    "You can use the `in` keyword to check if an item is in a set.\n"
   ]
  },
  {
   "cell_type": "code",
   "execution_count": 14,
   "id": "9609b179",
   "metadata": {},
   "outputs": [
    {
     "name": "stdout",
     "output_type": "stream",
     "text": [
      "True\n",
      "False\n"
     ]
    }
   ],
   "source": [
    "\n",
    "fruits = {\"apple\", \"banana\", \"cherry\"}\n",
    "print(\"apple\" in fruits)  # True\n",
    "print(\"grape\" in fruits)  # False\n"
   ]
  },
  {
   "cell_type": "markdown",
   "id": "cc6c6c06",
   "metadata": {},
   "source": [
    "\n",
    "## Summary\n",
    "\n",
    "- Sets store **unique, unordered** items.\n",
    "- Use `add()`, `update()` to add values.\n",
    "- Use `remove()`, `discard()`, `pop()`, or `clear()` to remove values.\n",
    "- Use operators like `|`, `&`, `-`, `^` for set operations.\n",
    "- Sets are great for removing duplicates or checking for common items.\n"
   ]
  }
 ],
 "metadata": {
  "kernelspec": {
   "display_name": "base",
   "language": "python",
   "name": "python3"
  },
  "language_info": {
   "codemirror_mode": {
    "name": "ipython",
    "version": 3
   },
   "file_extension": ".py",
   "mimetype": "text/x-python",
   "name": "python",
   "nbconvert_exporter": "python",
   "pygments_lexer": "ipython3",
   "version": "3.12.7"
  }
 },
 "nbformat": 4,
 "nbformat_minor": 5
}
