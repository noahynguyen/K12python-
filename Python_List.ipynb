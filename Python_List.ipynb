{
 "cells": [
  {
   "cell_type": "markdown",
   "id": "d7b4df2f",
   "metadata": {},
   "source": [
    "# Python Lists - Beginner's Guide\n",
    "Welcome! This notebook will teach you all about **lists** in Python.\n",
    "Lists help you store and organize data like numbers, names, or other items."
   ]
  },
  {
   "cell_type": "markdown",
   "id": "2a4921a8",
   "metadata": {},
   "source": [
    "## What is a List?\n",
    "A **list** is like a row of boxes, and each box holds something.\n",
    "Instead of making a new variable for every item, you can put them in one list."
   ]
  },
  {
   "cell_type": "code",
   "execution_count": 16,
   "id": "cfe3d4ba",
   "metadata": {},
   "outputs": [
    {
     "name": "stdout",
     "output_type": "stream",
     "text": [
      "[8, 7, 12, 56, 2, 0, -9]\n"
     ]
    }
   ],
   "source": [
    "numbers = [8, 7, 12, 56, 2, 0, -9]\n",
    "print(numbers)"
   ]
  },
  {
   "cell_type": "markdown",
   "id": "16f55284",
   "metadata": {},
   "source": [
    "## Indexing - How We Access Items\n",
    "Each item in a list has a **position** called an **index**. The first index is 0.\n",
    "So `numbers[0]` gives us the first item (8), and `numbers[3]` gives us the fourth (56)."
   ]
  },
  {
   "cell_type": "markdown",
   "id": "5a18b704",
   "metadata": {},
   "source": [
    "Here’s how you can visualize the positions (indexes) of each element in the list `[8, 7, 12, 56, 2, 0, -9]`:\n",
    "\n",
    "| Index | Value |\n",
    "|-------|-------|\n",
    "|   0   |   8   |\n",
    "|   1   |   7   |\n",
    "|   2   |  12   |\n",
    "|   3   |  56   |\n",
    "|   4   |   2   |\n",
    "|   5   |   0   |\n",
    "|   6   |  -9   |"
   ]
  },
  {
   "cell_type": "code",
   "execution_count": 17,
   "id": "1ca1de31",
   "metadata": {},
   "outputs": [
    {
     "name": "stdout",
     "output_type": "stream",
     "text": [
      "8\n",
      "56\n"
     ]
    }
   ],
   "source": [
    "print(numbers[0])\n",
    "print(numbers[3])"
   ]
  },
  {
   "cell_type": "markdown",
   "id": "e966ac4b",
   "metadata": {},
   "source": [
    "## Changing List Items\n",
    "You can **change** an item by using its index."
   ]
  },
  {
   "cell_type": "code",
   "execution_count": 18,
   "id": "b01eeb7a",
   "metadata": {},
   "outputs": [
    {
     "name": "stdout",
     "output_type": "stream",
     "text": [
      "[8, 7, 99, 56, 2, 0, -9]\n"
     ]
    }
   ],
   "source": [
    "numbers[2] = 99\n",
    "print(numbers)"
   ]
  },
  {
   "cell_type": "markdown",
   "id": "40335d6c",
   "metadata": {},
   "source": [
    "## Lists Can Hold Duplicate Items"
   ]
  },
  {
   "cell_type": "code",
   "execution_count": 19,
   "id": "f35532cb",
   "metadata": {},
   "outputs": [
    {
     "name": "stdout",
     "output_type": "stream",
     "text": [
      "[7, 7, 7]\n"
     ]
    }
   ],
   "source": [
    "duplicate_list = [7, 7, 7]\n",
    "print(duplicate_list)"
   ]
  },
  {
   "cell_type": "markdown",
   "id": "777527e9",
   "metadata": {},
   "source": [
    "## Lists Can Hold Different Types of Data"
   ]
  },
  {
   "cell_type": "code",
   "execution_count": 20,
   "id": "7375d94e",
   "metadata": {},
   "outputs": [
    {
     "name": "stdout",
     "output_type": "stream",
     "text": [
      "[10, -2.3, 'Hello', [1, 2, 3]]\n"
     ]
    }
   ],
   "source": [
    "mixed_list = [10, -2.3, \"Hello\", [1, 2, 3]]\n",
    "print(mixed_list)"
   ]
  },
  {
   "cell_type": "markdown",
   "id": "c9822f8f",
   "metadata": {},
   "source": [
    "## Creating a List\n",
    "Use square brackets `[]` to make a list."
   ]
  },
  {
   "cell_type": "code",
   "execution_count": 21,
   "id": "8329041d",
   "metadata": {},
   "outputs": [
    {
     "name": "stdout",
     "output_type": "stream",
     "text": [
      "['Hello', 9]\n"
     ]
    }
   ],
   "source": [
    "empty_list = []\n",
    "mixed = [\"Hello\", 9]\n",
    "print(mixed)"
   ]
  },
  {
   "cell_type": "markdown",
   "id": "8bca1d26",
   "metadata": {},
   "source": [
    "## Adding Items to a List\n",
    "You can use `.append()` to add to the end of a list."
   ]
  },
  {
   "cell_type": "code",
   "execution_count": 22,
   "id": "7b76f0c1",
   "metadata": {},
   "outputs": [
    {
     "name": "stdout",
     "output_type": "stream",
     "text": [
      "['red']\n"
     ]
    }
   ],
   "source": [
    "colors = []\n",
    "colors.append(\"red\")\n",
    "print(colors)"
   ]
  },
  {
   "cell_type": "markdown",
   "id": "dfb1276d",
   "metadata": {},
   "source": [
    "## Inserting Items at Specific Places\n",
    "Use `.insert(index, value)` to add at a specific position."
   ]
  },
  {
   "cell_type": "code",
   "execution_count": 23,
   "id": "b7c74b82",
   "metadata": {},
   "outputs": [
    {
     "name": "stdout",
     "output_type": "stream",
     "text": [
      "['red', 'pink', 'green', 'blue']\n"
     ]
    }
   ],
   "source": [
    "colors = [\"red\", \"pink\", \"blue\"]\n",
    "colors.insert(2, \"green\")\n",
    "print(colors)"
   ]
  },
  {
   "cell_type": "markdown",
   "id": "92d85676",
   "metadata": {},
   "source": [
    "## Extending a List\n",
    "You can combine two lists using `.extend()`."
   ]
  },
  {
   "cell_type": "code",
   "execution_count": 24,
   "id": "65139d89",
   "metadata": {},
   "outputs": [
    {
     "name": "stdout",
     "output_type": "stream",
     "text": [
      "['red', 'pink', 'blue', 'purple', 'green']\n"
     ]
    }
   ],
   "source": [
    "colors_1 = [\"red\", \"pink\", \"blue\"]\n",
    "colors_2 = [\"purple\", \"green\"]\n",
    "colors_1.extend(colors_2)\n",
    "print(colors_1)"
   ]
  },
  {
   "cell_type": "markdown",
   "id": "c9cc7819",
   "metadata": {},
   "source": [
    "##  Removing Items from a List\n",
    "Use `.remove(value)` to delete the first matching item."
   ]
  },
  {
   "cell_type": "code",
   "execution_count": 25,
   "id": "aefd0ee5",
   "metadata": {},
   "outputs": [
    {
     "name": "stdout",
     "output_type": "stream",
     "text": [
      "['red', 'blue', 'purple', 'pink']\n"
     ]
    }
   ],
   "source": [
    "colors = [\"red\", \"pink\", \"blue\", \"purple\", \"pink\"]\n",
    "colors.remove(\"pink\")\n",
    "print(colors)"
   ]
  },
  {
   "cell_type": "markdown",
   "id": "1e85789b",
   "metadata": {},
   "source": [
    "## Clearing a List\n",
    "Use `.clear()` to remove all items."
   ]
  },
  {
   "cell_type": "code",
   "execution_count": 26,
   "id": "f6ea940e",
   "metadata": {},
   "outputs": [
    {
     "name": "stdout",
     "output_type": "stream",
     "text": [
      "[]\n"
     ]
    }
   ],
   "source": [
    "colors = [\"red\", \"pink\", \"blue\", \"purple\", \"pink\"]\n",
    "colors.clear()\n",
    "print(colors)"
   ]
  },
  {
   "cell_type": "markdown",
   "id": "ae804de5",
   "metadata": {},
   "source": [
    "## Using `.pop()`\n",
    "`.pop(index)` removes and **returns** the item at that index."
   ]
  },
  {
   "cell_type": "code",
   "execution_count": 27,
   "id": "a0838201",
   "metadata": {},
   "outputs": [
    {
     "name": "stdout",
     "output_type": "stream",
     "text": [
      "['red', 'pink', 'purple', 'pink']\n",
      "blue\n"
     ]
    }
   ],
   "source": [
    "colors = [\"red\", \"pink\", \"blue\", \"purple\", \"pink\"]\n",
    "removed_color = colors.pop(2)\n",
    "print(colors)\n",
    "print(removed_color)"
   ]
  },
  {
   "cell_type": "markdown",
   "id": "55215070",
   "metadata": {},
   "source": [
    "## Modifying a List Item"
   ]
  },
  {
   "cell_type": "code",
   "execution_count": 28,
   "id": "91f15690",
   "metadata": {},
   "outputs": [
    {
     "name": "stdout",
     "output_type": "stream",
     "text": [
      "['red', 'pink', 'green', 'purple', 'pink']\n"
     ]
    }
   ],
   "source": [
    "colors = [\"red\", \"pink\", \"blue\", \"purple\", \"pink\"]\n",
    "colors[2] = \"green\"\n",
    "print(colors)"
   ]
  },
  {
   "cell_type": "markdown",
   "id": "07452a19",
   "metadata": {},
   "source": [
    "## Summary of What You Learned\n",
    "- Lists can hold many items.\n",
    "- You can use indexes to access or change items.\n",
    "- Lists can hold any type of data.\n",
    "- Use `.append()`, `.insert()`, `.remove()`, `.clear()`, and `.pop()` to manage your list."
   ]
  }
 ],
 "metadata": {
  "kernelspec": {
   "display_name": "base",
   "language": "python",
   "name": "python3"
  },
  "language_info": {
   "codemirror_mode": {
    "name": "ipython",
    "version": 3
   },
   "file_extension": ".py",
   "mimetype": "text/x-python",
   "name": "python",
   "nbconvert_exporter": "python",
   "pygments_lexer": "ipython3",
   "version": "3.12.7"
  }
 },
 "nbformat": 4,
 "nbformat_minor": 5
}
