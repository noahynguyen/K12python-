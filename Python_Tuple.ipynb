{
 "cells": [
  {
   "cell_type": "markdown",
   "id": "c8df0c48",
   "metadata": {},
   "source": [
    "# Understanding Tuples in Python\n",
    "\n",
    "Tuples are a type of data structure in Python, just like lists. However, they are **immutable**, which means that once they are created, their values cannot be changed. Tuples are useful when you want to store a group of items and make sure they stay the same throughout your program.\n"
   ]
  },
  {
   "cell_type": "markdown",
   "id": "7e105d11",
   "metadata": {},
   "source": [
    "## List Concatenation\n",
    "\n",
    "Before diving into tuples, let's look at list concatenation. You can use the `+` operator to combine two lists into one.\n"
   ]
  },
  {
   "cell_type": "code",
   "execution_count": 2,
   "id": "81a706aa",
   "metadata": {},
   "outputs": [
    {
     "name": "stdout",
     "output_type": "stream",
     "text": [
      "['red', 'pink', 'blue', 'purple', 'pink', 'green', 'magenta']\n"
     ]
    }
   ],
   "source": [
    "colors1 = ['red', 'pink', 'blue', 'purple', 'pink']\n",
    "colors2 = ['green', 'magenta']\n",
    "combined_colors = colors1 + colors2\n",
    "print(combined_colors)\n"
   ]
  },
  {
   "cell_type": "markdown",
   "id": "1761759b",
   "metadata": {},
   "source": [
    "## What is a Tuple?\n",
    "\n",
    "Tuples are very similar to lists, but there is one key difference: **tuples are immutable**. That means once you create a tuple, you cannot change its values—no adding, removing, or updating elements.\n",
    "\n",
    "This immutability is useful when you want to protect data from being modified during the execution of your program.\n"
   ]
  },
  {
   "cell_type": "markdown",
   "id": "17973a61",
   "metadata": {},
   "source": [
    "## Creating Tuples\n",
    "\n",
    "You can create a tuple using parentheses `()` and separating the items with commas.\n"
   ]
  },
  {
   "cell_type": "code",
   "execution_count": 3,
   "id": "bfe1427b",
   "metadata": {},
   "outputs": [
    {
     "name": "stdout",
     "output_type": "stream",
     "text": [
      "<class 'tuple'>\n",
      "('red', 'pink', 'blue', 'purple', 'pink')\n"
     ]
    }
   ],
   "source": [
    "colors = ('red', 'pink', 'blue', 'purple', 'pink')\n",
    "print(type(colors))\n",
    "print(colors)\n"
   ]
  },
  {
   "cell_type": "markdown",
   "id": "46fd62ec",
   "metadata": {},
   "source": [
    "### Creating a Tuple with One Item\n",
    "\n",
    "If you try to create a tuple with just one item, Python will treat it as a string instead unless you add a trailing comma.\n"
   ]
  },
  {
   "cell_type": "code",
   "execution_count": 4,
   "id": "84fcfba5",
   "metadata": {},
   "outputs": [
    {
     "name": "stdout",
     "output_type": "stream",
     "text": [
      "<class 'str'>\n",
      "red\n"
     ]
    }
   ],
   "source": [
    "colors = ('red')\n",
    "print(type(colors))  # This is not a tuple\n",
    "print(colors)\n"
   ]
  },
  {
   "cell_type": "code",
   "execution_count": 5,
   "id": "241849ce",
   "metadata": {},
   "outputs": [
    {
     "name": "stdout",
     "output_type": "stream",
     "text": [
      "<class 'tuple'>\n",
      "('red',)\n"
     ]
    }
   ],
   "source": [
    "colors = ('red',)\n",
    "print(type(colors))  # This is a tuple\n",
    "print(colors)\n"
   ]
  },
  {
   "cell_type": "markdown",
   "id": "34ba5b27",
   "metadata": {},
   "source": [
    "## Supported Methods\n",
    "\n",
    "Because tuples are immutable, they do not support methods that change the data such as `append()`, `insert()`, `remove()`, `pop()`, `clear()`, or `extend()`.\n",
    "\n",
    "However, you can still:\n",
    "- Use `count()` to count occurrences of a value\n",
    "- Use `index()` to find the position of a value\n",
    "- Access elements by index like in lists\n"
   ]
  },
  {
   "cell_type": "markdown",
   "id": "75a94828",
   "metadata": {},
   "source": [
    "Here is a code block with detailed comments that demonstrates how to use the count(), index(), and indexing on tuples in Python."
   ]
  },
  {
   "cell_type": "code",
   "execution_count": 6,
   "id": "f821bc33",
   "metadata": {},
   "outputs": [
    {
     "name": "stdout",
     "output_type": "stream",
     "text": [
      "The color 'blue' appears 3 times in the tuple.\n",
      "The color 'green' is located at index 2\n",
      "The first color is: red\n",
      "The third color is: green\n",
      "The last color is: blue\n"
     ]
    }
   ],
   "source": [
    "# Define a tuple with repeated and unique elements\n",
    "colors = ('red', 'blue', 'green', 'blue', 'yellow', 'blue')\n",
    "\n",
    "# Use count() to find how many times 'blue' appears in the tuple\n",
    "blue_count = colors.count('blue')  # This will return 3\n",
    "print(\"The color 'blue' appears\", blue_count, \"times in the tuple.\")\n",
    "\n",
    "# Use index() to find the first position of 'green'\n",
    "green_index = colors.index('green')  # This will return 2\n",
    "print(\"The color 'green' is located at index\", green_index)\n",
    "\n",
    "# Use index to access elements directly (like in a list)\n",
    "# Remember, indexing starts from 0\n",
    "print(\"The first color is:\", colors[0])        # red\n",
    "print(\"The third color is:\", colors[2])        # green\n",
    "print(\"The last color is:\", colors[-1])        # negative index gets last item: blue\n"
   ]
  }
 ],
 "metadata": {
  "kernelspec": {
   "display_name": "base",
   "language": "python",
   "name": "python3"
  },
  "language_info": {
   "codemirror_mode": {
    "name": "ipython",
    "version": 3
   },
   "file_extension": ".py",
   "mimetype": "text/x-python",
   "name": "python",
   "nbconvert_exporter": "python",
   "pygments_lexer": "ipython3",
   "version": "3.12.7"
  }
 },
 "nbformat": 4,
 "nbformat_minor": 5
}
