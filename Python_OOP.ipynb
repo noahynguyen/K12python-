{
 "cells": [
  {
   "cell_type": "markdown",
   "id": "6e24272d",
   "metadata": {},
   "source": [
    "# Python Object-Oriented Programming (OOP)\n",
    "This notebook introduces Object-Oriented Programming (OOP) concepts in Python. "
   ]
  },
  {
   "cell_type": "markdown",
   "id": "235c9b86",
   "metadata": {},
   "source": [
    "## What is Object-Oriented Programming?\n",
    "Object-Oriented Programming (OOP) is a way of writing code that uses 'objects' to model real-world things.\n",
    "\n",
    "A class is a blueprint for creating objects. An object is a specific instance created from a class. Objects have **attributes** (variables) and **methods** (functions)."
   ]
  },
  {
   "cell_type": "markdown",
   "id": "0ea782d3",
   "metadata": {},
   "source": [
    "## Creating a Class with `__init__()`\n",
    "The `__init__()` method is a special method called automatically when you create a new object. It is used to set up (initialize) the attributes of an object."
   ]
  },
  {
   "cell_type": "code",
   "execution_count": 1,
   "id": "0230947e",
   "metadata": {},
   "outputs": [
    {
     "name": "stdout",
     "output_type": "stream",
     "text": [
      "Hello, my name is Alice and I am 13 years old.\n"
     ]
    }
   ],
   "source": [
    "class Person:\n",
    "    def __init__(self, name, age):\n",
    "        self.name = name  # attribute\n",
    "        self.age = age    # attribute\n",
    "\n",
    "    def introduce(self):\n",
    "        print(f\"Hello, my name is {self.name} and I am {self.age} years old.\")\n",
    "\n",
    "# Create an object\n",
    "student = Person(\"Alice\", 13)\n",
    "student.introduce()"
   ]
  },
  {
   "cell_type": "markdown",
   "id": "6ab840a1",
   "metadata": {},
   "source": [
    "## Adding More Methods to a Class\n",
    "You can add multiple methods that allow the object to do different things."
   ]
  },
  {
   "cell_type": "code",
   "execution_count": 2,
   "id": "910c33ea",
   "metadata": {},
   "outputs": [
    {
     "name": "stdout",
     "output_type": "stream",
     "text": [
      "Current result: 15\n"
     ]
    }
   ],
   "source": [
    "class Calculator:\n",
    "    def __init__(self):\n",
    "        self.result = 0\n",
    "\n",
    "    def add(self, number):\n",
    "        self.result += number\n",
    "\n",
    "    def subtract(self, number):\n",
    "        self.result -= number\n",
    "\n",
    "    def multiply(self, number):\n",
    "        self.result *= number\n",
    "\n",
    "    def reset(self):\n",
    "        self.result = 0\n",
    "\n",
    "    def show_result(self):\n",
    "        print(f\"Current result: {self.result}\")\n",
    "\n",
    "# Using the Calculator\n",
    "calc = Calculator()\n",
    "calc.add(10)\n",
    "calc.multiply(2)\n",
    "calc.subtract(5)\n",
    "calc.show_result()"
   ]
  },
  {
   "cell_type": "markdown",
   "id": "40e928b8",
   "metadata": {},
   "source": [
    "## Creating and Using Multiple Objects\n",
    "You can create many objects from the same class, each with its own data."
   ]
  },
  {
   "cell_type": "code",
   "execution_count": 3,
   "id": "41cb6900",
   "metadata": {},
   "outputs": [
    {
     "name": "stdout",
     "output_type": "stream",
     "text": [
      "Rex the Labrador says woof!\n",
      "Bella the Beagle says woof!\n"
     ]
    }
   ],
   "source": [
    "class Dog:\n",
    "    def __init__(self, name, breed):\n",
    "        self.name = name\n",
    "        self.breed = breed\n",
    "\n",
    "    def bark(self):\n",
    "        print(f\"{self.name} the {self.breed} says woof!\")\n",
    "\n",
    "dog1 = Dog(\"Rex\", \"Labrador\")\n",
    "dog2 = Dog(\"Bella\", \"Beagle\")\n",
    "\n",
    "dog1.bark()\n",
    "dog2.bark()"
   ]
  },
  {
   "cell_type": "markdown",
   "id": "6b49f23a",
   "metadata": {},
   "source": [
    "## Using Default Values in `__init__()`\n",
    "You can give parameters default values so they are optional."
   ]
  },
  {
   "cell_type": "code",
   "execution_count": 4,
   "id": "53c79aa6",
   "metadata": {},
   "outputs": [
    {
     "name": "stdout",
     "output_type": "stream",
     "text": [
      "Emily is in grade 7.\n",
      "Noah is in grade 9.\n"
     ]
    }
   ],
   "source": [
    "class Student:\n",
    "    def __init__(self, name, grade=7):\n",
    "        self.name = name\n",
    "        self.grade = grade\n",
    "\n",
    "    def display(self):\n",
    "        print(f\"{self.name} is in grade {self.grade}.\")\n",
    "\n",
    "student1 = Student(\"Emily\")\n",
    "student2 = Student(\"Noah\", 9)\n",
    "\n",
    "student1.display()\n",
    "student2.display()"
   ]
  },
  {
   "cell_type": "markdown",
   "id": "b598e56e",
   "metadata": {},
   "source": [
    "## Using Logic (if-else) in Methods\n",
    "Objects can behave differently depending on their data."
   ]
  },
  {
   "cell_type": "code",
   "execution_count": 5,
   "id": "0793ab05",
   "metadata": {},
   "outputs": [
    {
     "name": "stdout",
     "output_type": "stream",
     "text": [
      "It's mild.\n"
     ]
    }
   ],
   "source": [
    "class Temperature:\n",
    "    def __init__(self, celsius):\n",
    "        self.celsius = celsius\n",
    "\n",
    "    def check_weather(self):\n",
    "        if self.celsius > 30:\n",
    "            print(\"It's hot!\")\n",
    "        elif self.celsius < 10:\n",
    "            print(\"It's cold!\")\n",
    "        else:\n",
    "            print(\"It's mild.\")\n",
    "\n",
    "today = Temperature(25)\n",
    "today.check_weather()"
   ]
  },
  {
   "cell_type": "markdown",
   "id": "d377ca73",
   "metadata": {},
   "source": [
    "## Summary\n",
    "- A **class** defines the structure of objects.\n",
    "- The `__init__()` method sets up object data when it's created.\n",
    "- **self** refers to the object itself.\n",
    "- Objects can have multiple **methods** to perform actions.\n",
    "- You can create **multiple objects** from one class.\n",
    "- Use **logic**, **parameters**, and **default values** to make your classes powerful."
   ]
  }
 ],
 "metadata": {
  "kernelspec": {
   "display_name": "base",
   "language": "python",
   "name": "python3"
  },
  "language_info": {
   "codemirror_mode": {
    "name": "ipython",
    "version": 3
   },
   "file_extension": ".py",
   "mimetype": "text/x-python",
   "name": "python",
   "nbconvert_exporter": "python",
   "pygments_lexer": "ipython3",
   "version": "3.12.7"
  }
 },
 "nbformat": 4,
 "nbformat_minor": 5
}
