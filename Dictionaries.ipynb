{
 "cells": [
  {
   "cell_type": "markdown",
   "metadata": {},
   "source": [
    "# Python Dictionaries\n",
    "\n",
    "A **dictionary** in Python is a way to store data using **key-value pairs**. Each key is unique and maps to a value. This is helpful when you want to label data instead of just using positions (like in lists).\n",
    "\n",
    "## What Does a Dictionary Look Like?\n",
    "\n",
    "```python\n",
    "person = {\n",
    "    \"name\": \"Amelia\",\n",
    "    \"age\": 12,\n",
    "    \"phone\": \"xxx-xxx-xxxx\",\n",
    "    \"address\": \"123 Python Way\"\n",
    "}\n",
    "```\n",
    "\n",
    "## Accessing Dictionary Elements\n",
    "You can use the key name in square brackets to get its value.\n",
    "\n",
    "```python\n",
    "print(person[\"name\"])  # Output: Amelia\n",
    "```\n",
    "\n",
    "### Using `get()`\n",
    "```python\n",
    "print(person.get(\"age\"))  # Output: 12\n",
    "print(person.get(\"email\", \"Not Available\"))  # Output: Not Available\n",
    "```\n"
   ]
  },
  {
   "cell_type": "code",
   "execution_count": 6,
   "metadata": {},
   "outputs": [
    {
     "name": "stdout",
     "output_type": "stream",
     "text": [
      "Amelia\n",
      "Not Available\n"
     ]
    }
   ],
   "source": [
    "# Creating a dictionary\n",
    "person = {\n",
    "    \"name\": \"Amelia\",\n",
    "    \"age\": 12,\n",
    "    \"phone\": \"xxx-xxx-xxxx\",\n",
    "    \"address\": \"123 Python Way\"\n",
    "}\n",
    "\n",
    "# Accessing values\n",
    "print(person[\"name\"])\n",
    "print(person.get(\"email\", \"Not Available\"))"
   ]
  },
  {
   "cell_type": "markdown",
   "metadata": {},
   "source": [
    "## Modifying a Dictionary\n",
    "You can change the value of an existing key by assigning a new value to it.\n",
    "\n",
    "```python\n",
    "person[\"age\"] = 13\n",
    "```\n",
    "\n",
    "## Adding Items\n",
    "You can add a new key and value to the dictionary like this:\n",
    "\n",
    "```python\n",
    "person[\"email\"] = \"amelia@example.com\"\n",
    "```\n"
   ]
  },
  {
   "cell_type": "code",
   "execution_count": 7,
   "metadata": {},
   "outputs": [
    {
     "name": "stdout",
     "output_type": "stream",
     "text": [
      "{'name': 'Amelia', 'age': 13, 'phone': 'xxx-xxx-xxxx', 'address': '123 Python Way', 'email': 'amelia@example.com'}\n"
     ]
    }
   ],
   "source": [
    "# Modifying and adding items\n",
    "person[\"age\"] = 13\n",
    "person[\"email\"] = \"amelia@example.com\"\n",
    "print(person)"
   ]
  },
  {
   "cell_type": "markdown",
   "metadata": {},
   "source": [
    "## Removing Items\n",
    "You can use different methods:\n",
    "- `del person[\"age\"]`\n",
    "- `person.pop(\"age\")`\n",
    "- `person.clear()`\n"
   ]
  },
  {
   "cell_type": "code",
   "execution_count": 8,
   "metadata": {},
   "outputs": [
    {
     "name": "stdout",
     "output_type": "stream",
     "text": [
      "Removed age: 13\n",
      "{}\n"
     ]
    }
   ],
   "source": [
    "# Removing items from dictionary\n",
    "del person[\"phone\"]\n",
    "removed_age = person.pop(\"age\", None)\n",
    "print(\"Removed age:\", removed_age)\n",
    "\n",
    "# Clear dictionary\n",
    "person.clear()\n",
    "print(person)  # Should be empty"
   ]
  },
  {
   "cell_type": "markdown",
   "metadata": {},
   "source": [
    "## Dictionary Length\n",
    "To count the number of items in a dictionary:\n",
    "```python\n",
    "len(person)\n",
    "```\n",
    "\n",
    "## Merging Dictionaries\n",
    "Using `update()` or unpacking with `**`:\n",
    "\n",
    "```python\n",
    "person1 = {\"name\": \"Amelia\", \"age\": 12}\n",
    "person2 = {\"phone\": \"xxx\", \"address\": \"123\"}\n",
    "person1.update(person2)\n",
    "```\n"
   ]
  },
  {
   "cell_type": "code",
   "execution_count": 9,
   "metadata": {},
   "outputs": [
    {
     "name": "stdout",
     "output_type": "stream",
     "text": [
      "{'name': 'Amelia', 'age': 12, 'phone': 'xxx', 'address': '123'}\n"
     ]
    }
   ],
   "source": [
    "# Merging dictionaries\n",
    "person1 = {\"name\": \"Amelia\", \"age\": 12}\n",
    "person2 = {\"phone\": \"xxx\", \"address\": \"123\"}\n",
    "person1.update(person2)\n",
    "print(person1)"
   ]
  },
  {
   "cell_type": "markdown",
   "metadata": {},
   "source": [
    "## Nested Dictionaries\n",
    "A dictionary can contain another dictionary inside it.\n",
    "\n",
    "```python\n",
    "nested = {\n",
    "    \"person1\": {\"name\": \"Amelia\", \"age\": 12},\n",
    "    \"person2\": {\"phone\": \"xxx\", \"address\": \"123\"}\n",
    "}\n",
    "```\n",
    "Access nested data:\n",
    "```python\n",
    "print(nested[\"person1\"][\"name\"])\n",
    "```\n"
   ]
  },
  {
   "cell_type": "code",
   "execution_count": 10,
   "metadata": {},
   "outputs": [
    {
     "name": "stdout",
     "output_type": "stream",
     "text": [
      "Amelia\n",
      "123\n"
     ]
    }
   ],
   "source": [
    "# Working with nested dictionaries\n",
    "nested = {\n",
    "    \"person1\": {\"name\": \"Amelia\", \"age\": 12},\n",
    "    \"person2\": {\"phone\": \"xxx\", \"address\": \"123\"}\n",
    "}\n",
    "print(nested[\"person1\"][\"name\"])\n",
    "print(nested[\"person2\"][\"address\"])"
   ]
  }
 ],
 "metadata": {
  "kernelspec": {
   "display_name": "base",
   "language": "python",
   "name": "python3"
  },
  "language_info": {
   "codemirror_mode": {
    "name": "ipython",
    "version": 3
   },
   "file_extension": ".py",
   "mimetype": "text/x-python",
   "name": "python",
   "nbconvert_exporter": "python",
   "pygments_lexer": "ipython3",
   "version": "3.12.7"
  }
 },
 "nbformat": 4,
 "nbformat_minor": 5
}
