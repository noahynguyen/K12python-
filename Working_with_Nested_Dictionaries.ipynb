{
 "cells": [
  {
   "cell_type": "markdown",
   "id": "7d686944",
   "metadata": {},
   "source": [
    "# Python Dictionaries\n",
    "\n",
    "In this notebook, we explore Python dictionaries in depth, with a special focus on **nested dictionaries**.\n",
    "\n",
    "A dictionary in Python stores data as **key-value pairs**, allowing us to organize and retrieve data efficiently. Nested dictionaries are dictionaries within dictionaries and are useful for representing structured data, such as students, addresses, books, or complex information systems.\n"
   ]
  },
  {
   "cell_type": "markdown",
   "id": "9e2f31fa",
   "metadata": {},
   "source": [
    "## Creating a Nested Dictionary\n",
    "\n",
    "A nested dictionary means that one or more values in a dictionary are themselves dictionaries.\n"
   ]
  },
  {
   "cell_type": "code",
   "execution_count": 15,
   "id": "67d92378",
   "metadata": {},
   "outputs": [
    {
     "name": "stdout",
     "output_type": "stream",
     "text": [
      "{'person1': {'name': 'Amelia', 'age': 12}, 'person2': {'phone': 'xxx', 'address': '123'}}\n"
     ]
    }
   ],
   "source": [
    "# Two separate dictionaries\n",
    "person1 = {\"name\": \"Amelia\", \"age\": 12}\n",
    "person2 = {\"phone\": \"xxx\", \"address\": \"123\"}\n",
    "\n",
    "# Nesting them inside another dictionary\n",
    "nested_dict = {\n",
    "    \"person1\": person1,\n",
    "    \"person2\": person2\n",
    "}\n",
    "\n",
    "print(nested_dict)\n"
   ]
  },
  {
   "cell_type": "markdown",
   "id": "1c34e7da",
   "metadata": {},
   "source": [
    "## Accessing Values in a Nested Dictionary\n",
    "\n",
    "You can access values inside a nested dictionary by chaining keys.\n"
   ]
  },
  {
   "cell_type": "code",
   "execution_count": 16,
   "id": "61eb889e",
   "metadata": {},
   "outputs": [
    {
     "name": "stdout",
     "output_type": "stream",
     "text": [
      "Amelia\n",
      "123\n"
     ]
    }
   ],
   "source": [
    "# Access the name of person1\n",
    "print(nested_dict[\"person1\"][\"name\"])\n",
    "\n",
    "# Access the address of person2\n",
    "print(nested_dict[\"person2\"][\"address\"])\n"
   ]
  },
  {
   "cell_type": "markdown",
   "id": "9aad9cf1",
   "metadata": {},
   "source": [
    "## Modifying Values in a Nested Dictionary\n",
    "\n",
    "You can change any value inside the nested dictionary by specifying the correct keys.\n"
   ]
  },
  {
   "cell_type": "code",
   "execution_count": 17,
   "id": "96eeddf1",
   "metadata": {},
   "outputs": [
    {
     "name": "stdout",
     "output_type": "stream",
     "text": [
      "{'person1': {'name': 'Liam', 'age': 12}, 'person2': {'phone': 'xxx', 'address': '456 Python Lane'}}\n"
     ]
    }
   ],
   "source": [
    "# Change the name of person1\n",
    "nested_dict[\"person1\"][\"name\"] = \"Liam\"\n",
    "\n",
    "# Update address for person2\n",
    "nested_dict[\"person2\"][\"address\"] = \"456 Python Lane\"\n",
    "\n",
    "print(nested_dict)\n"
   ]
  },
  {
   "cell_type": "markdown",
   "id": "bd4f04b3",
   "metadata": {},
   "source": [
    "## Adding Items to a Nested Dictionary\n",
    "\n",
    "You can add a new key to an inner dictionary just like any normal dictionary.\n"
   ]
  },
  {
   "cell_type": "code",
   "execution_count": 18,
   "id": "98936c97",
   "metadata": {},
   "outputs": [
    {
     "name": "stdout",
     "output_type": "stream",
     "text": [
      "{'person1': {'name': 'Liam', 'age': 12, 'email': 'liam@example.com'}, 'person2': {'phone': 'xxx', 'address': '456 Python Lane', 'birthday': '01-01-2010'}}\n"
     ]
    }
   ],
   "source": [
    "# Add email to person1\n",
    "nested_dict[\"person1\"][\"email\"] = \"liam@example.com\"\n",
    "\n",
    "# Add birthday to person2\n",
    "nested_dict[\"person2\"][\"birthday\"] = \"01-01-2010\"\n",
    "\n",
    "print(nested_dict)\n"
   ]
  },
  {
   "cell_type": "markdown",
   "id": "5a49a65a",
   "metadata": {},
   "source": [
    "## Removing Items from a Nested Dictionary\n",
    "\n",
    "You can use `del` or `pop()` to remove keys from inside nested dictionaries.\n"
   ]
  },
  {
   "cell_type": "code",
   "execution_count": 19,
   "id": "75d8f8e9",
   "metadata": {},
   "outputs": [
    {
     "name": "stdout",
     "output_type": "stream",
     "text": [
      "Removed birthday: 01-01-2010\n",
      "{'person1': {'name': 'Liam', 'age': 12}, 'person2': {'phone': 'xxx', 'address': '456 Python Lane'}}\n"
     ]
    }
   ],
   "source": [
    "# Remove the email key from person1\n",
    "del nested_dict[\"person1\"][\"email\"]\n",
    "\n",
    "# Remove and return the birthday key from person2\n",
    "birthday = nested_dict[\"person2\"].pop(\"birthday\")\n",
    "print(\"Removed birthday:\", birthday)\n",
    "\n",
    "print(nested_dict)\n"
   ]
  },
  {
   "cell_type": "markdown",
   "id": "3e549c8e",
   "metadata": {},
   "source": [
    "## Checking if a Key Exists in a Nested Dictionary\n",
    "\n",
    "Use the `in` keyword to check for the presence of keys.\n"
   ]
  },
  {
   "cell_type": "code",
   "execution_count": 20,
   "id": "2ba29d5e",
   "metadata": {},
   "outputs": [
    {
     "name": "stdout",
     "output_type": "stream",
     "text": [
      "True\n",
      "False\n"
     ]
    }
   ],
   "source": [
    "# Check if 'name' exists in person1\n",
    "print(\"name\" in nested_dict[\"person1\"])  # True\n",
    "\n",
    "# Check if 'email' exists in person2\n",
    "print(\"email\" in nested_dict[\"person2\"])  # False\n"
   ]
  },
  {
   "cell_type": "markdown",
   "id": "798134e3",
   "metadata": {},
   "source": [
    "## Iterating Through a Nested Dictionary\n",
    "\n",
    "You can use loops to go through all keys and values, even in nested dictionaries.\n"
   ]
  },
  {
   "cell_type": "code",
   "execution_count": 21,
   "id": "424682d6",
   "metadata": {},
   "outputs": [
    {
     "name": "stdout",
     "output_type": "stream",
     "text": [
      "person1 contains:\n",
      "  name: Liam\n",
      "  age: 12\n",
      "person2 contains:\n",
      "  phone: xxx\n",
      "  address: 456 Python Lane\n"
     ]
    }
   ],
   "source": [
    "# Loop through outer dictionary\n",
    "for key, inner_dict in nested_dict.items():\n",
    "    print(f\"{key} contains:\")\n",
    "    for inner_key, value in inner_dict.items():\n",
    "        print(f\"  {inner_key}: {value}\")\n"
   ]
  }
 ],
 "metadata": {
  "kernelspec": {
   "display_name": "base",
   "language": "python",
   "name": "python3"
  },
  "language_info": {
   "codemirror_mode": {
    "name": "ipython",
    "version": 3
   },
   "file_extension": ".py",
   "mimetype": "text/x-python",
   "name": "python",
   "nbconvert_exporter": "python",
   "pygments_lexer": "ipython3",
   "version": "3.12.7"
  }
 },
 "nbformat": 4,
 "nbformat_minor": 5
}
