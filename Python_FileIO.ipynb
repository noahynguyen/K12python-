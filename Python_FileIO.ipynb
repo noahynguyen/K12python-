{
 "cells": [
  {
   "cell_type": "markdown",
   "id": "a88a95eb",
   "metadata": {},
   "source": [
    "# Python File Input and Output (File I/O)\n",
    "This notebook introduces how to read from and write to files using Python."
   ]
  },
  {
   "cell_type": "markdown",
   "id": "2c37b9d6",
   "metadata": {},
   "source": [
    "## What is File I/O?\n",
    "**File I/O** stands for *File Input and Output*. It means reading data from a file (input) and writing data to a file (output). In Python, we use built-in functions like `open()`, `read()`, `write()`, and `close()` to handle files."
   ]
  },
  {
   "cell_type": "markdown",
   "id": "a55481b3",
   "metadata": {},
   "source": [
    "## Opening a File\n",
    "You can open a file using the `open()` function. This function takes two main arguments:\n",
    "- The file name (as a string)\n",
    "- The mode ('r' for read, 'w' for write, 'a' for append)\n",
    "\n",
    "Example:"
   ]
  },
  {
   "cell_type": "code",
   "execution_count": null,
   "id": "b931ff1e",
   "metadata": {},
   "outputs": [],
   "source": [
    "# This opens the file 'example.txt' for reading\n",
    "file = open('example.txt', 'r')\n",
    "file.close()"
   ]
  },
  {
   "cell_type": "markdown",
   "id": "e94b1dd8",
   "metadata": {},
   "source": [
    "## Writing to a File\n",
    "To write to a file, use mode `'w'`. This will create the file if it does not exist, or overwrite it if it does.\n",
    "Use the `.write()` method to write text to the file.\n"
   ]
  },
  {
   "cell_type": "code",
   "execution_count": null,
   "id": "345e28a8",
   "metadata": {},
   "outputs": [],
   "source": [
    "file = open('sample.txt', 'w')\n",
    "file.write('Hello, world!\\n')\n",
    "file.write('This is a file created in Python.')\n",
    "file.close()"
   ]
  },
  {
   "cell_type": "markdown",
   "id": "59bdcc9b",
   "metadata": {},
   "source": [
    "## Reading from a File\n",
    "To read the contents of a file, open it in `'r'` mode and use `.read()`, `.readline()`, or `.readlines()`.\n"
   ]
  },
  {
   "cell_type": "code",
   "execution_count": null,
   "id": "da553860",
   "metadata": {},
   "outputs": [],
   "source": [
    "file = open('sample.txt', 'r')\n",
    "content = file.read()\n",
    "print(content)\n",
    "file.close()"
   ]
  },
  {
   "cell_type": "markdown",
   "id": "bf3ab75e",
   "metadata": {},
   "source": [
    "## Using `with` Statement\n",
    "The `with` statement automatically closes the file after you're done. This is the best practice.\n"
   ]
  },
  {
   "cell_type": "code",
   "execution_count": null,
   "id": "eccd89bc",
   "metadata": {},
   "outputs": [],
   "source": [
    "with open('sample.txt', 'r') as file:\n",
    "    content = file.read()\n",
    "    print(content)"
   ]
  },
  {
   "cell_type": "markdown",
   "id": "b374e341",
   "metadata": {},
   "source": [
    "## Appending to a File\n",
    "If you want to add content to the end of an existing file without erasing it, use `'a'` mode.\n"
   ]
  },
  {
   "cell_type": "code",
   "execution_count": null,
   "id": "49b24465",
   "metadata": {},
   "outputs": [],
   "source": [
    "with open('sample.txt', 'a') as file:\n",
    "    file.write('\\nAdding a new line at the end.')"
   ]
  },
  {
   "cell_type": "code",
   "execution_count": null,
   "id": "f865cc22",
   "metadata": {},
   "outputs": [],
   "source": [
    "with open('sample.txt', 'r') as file:\n",
    "    print(file.read())"
   ]
  },
  {
   "cell_type": "markdown",
   "id": "08312287",
   "metadata": {},
   "source": [
    "## Summary\n",
    "- Use `open()` to open a file in different modes: `'r'` (read), `'w'` (write), `'a'` (append)\n",
    "- Always close files using `.close()` or use the `with` statement\n",
    "- Use `.write()` to write to files and `.read()` or `.readline()` to read from files"
   ]
  }
 ],
 "metadata": {
  "language_info": {
   "name": "python"
  }
 },
 "nbformat": 4,
 "nbformat_minor": 5
}
