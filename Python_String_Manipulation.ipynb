{
 "cells": [
  {
   "cell_type": "markdown",
   "id": "274b2fd0",
   "metadata": {},
   "source": [
    "# Python String Manipulation\n",
    "This notebook is designed to introduce string manipulation in Python. Strings are a basic but important part of programming, and knowing how to use them will help you build more useful and fun programs."
   ]
  },
  {
   "cell_type": "markdown",
   "id": "68a2aa45",
   "metadata": {},
   "source": [
    "## What is a String?\n",
    "A **string** is a sequence of characters. Characters can be letters, numbers, punctuation marks, or even spaces. Strings are always enclosed in single quotes (`'`) or double quotes (`\"`).\n",
    "\n",
    "Here are a few examples of strings:"
   ]
  },
  {
   "cell_type": "code",
   "execution_count": 9,
   "id": "21371968",
   "metadata": {},
   "outputs": [
    {
     "name": "stdout",
     "output_type": "stream",
     "text": [
      "Amelia\n",
      "Hello, world!\n",
      "Python is fun.\n"
     ]
    }
   ],
   "source": [
    "name = 'Amelia'\n",
    "greeting = \"Hello, world!\"\n",
    "sentence = 'Python is fun.'\n",
    "print(name)\n",
    "print(greeting)\n",
    "print(sentence)"
   ]
  },
  {
   "cell_type": "markdown",
   "id": "64acdeee",
   "metadata": {},
   "source": [
    "## Creating Strings\n",
    "You can create strings using:\n",
    "1. Single quotes: `'text'`\n",
    "2. Double quotes: `\"text\"`\n",
    "3. Triple single quotes: `'''multi-line'''`\n",
    "4. Triple double quotes: `\"\"\"multi-line\"\"\"`"
   ]
  },
  {
   "cell_type": "code",
   "execution_count": 10,
   "id": "7b22b905",
   "metadata": {},
   "outputs": [
    {
     "name": "stdout",
     "output_type": "stream",
     "text": [
      "This is a string.\n",
      "This is also a string.\n",
      "This string\n",
      "spans multiple\n",
      "lines.\n",
      "This one too\n",
      "is a multi-line\n",
      "string.\n"
     ]
    }
   ],
   "source": [
    "single_quote = 'This is a string.'\n",
    "double_quote = \"This is also a string.\"\n",
    "triple_single = '''This string\n",
    "spans multiple\n",
    "lines.'''\n",
    "triple_double = \"\"\"This one too\n",
    "is a multi-line\n",
    "string.\"\"\"\n",
    "print(single_quote)\n",
    "print(double_quote)\n",
    "print(triple_single)\n",
    "print(triple_double)"
   ]
  },
  {
   "cell_type": "markdown",
   "id": "2297b890",
   "metadata": {},
   "source": [
    "## Accessing Characters in a String\n",
    "You can access individual characters in a string using indexing. The first character is at position 0.\n",
    "You can also use negative indexing to count from the end."
   ]
  },
  {
   "cell_type": "code",
   "execution_count": 11,
   "id": "d90c35e5",
   "metadata": {},
   "outputs": [
    {
     "name": "stdout",
     "output_type": "stream",
     "text": [
      "P\n",
      "h\n",
      "n\n"
     ]
    }
   ],
   "source": [
    "word = 'Python'\n",
    "print(word[0])  # First character\n",
    "print(word[3])  # Fourth character\n",
    "print(word[-1]) # Last character"
   ]
  },
  {
   "cell_type": "markdown",
   "id": "444da06a",
   "metadata": {},
   "source": [
    "## String Concatenation\n",
    "You can join two or more strings using the `+` operator. This is called concatenation."
   ]
  },
  {
   "cell_type": "code",
   "execution_count": 12,
   "id": "50184f1c",
   "metadata": {},
   "outputs": [
    {
     "name": "stdout",
     "output_type": "stream",
     "text": [
      "Amelia Smith\n"
     ]
    }
   ],
   "source": [
    "first_name = 'Amelia'\n",
    "last_name = 'Smith'\n",
    "full_name = first_name + ' ' + last_name\n",
    "print(full_name)"
   ]
  },
  {
   "cell_type": "markdown",
   "id": "11524267",
   "metadata": {},
   "source": [
    "## Finding the Length of a String\n",
    "Use the `len()` function to find out how many characters are in a string."
   ]
  },
  {
   "cell_type": "code",
   "execution_count": 13,
   "id": "ad69aaf0",
   "metadata": {},
   "outputs": [
    {
     "name": "stdout",
     "output_type": "stream",
     "text": [
      "14\n"
     ]
    }
   ],
   "source": [
    "message = 'I love Python!'\n",
    "print(len(message))"
   ]
  },
  {
   "cell_type": "markdown",
   "id": "a11efc71",
   "metadata": {},
   "source": [
    "## Repeating Strings\n",
    "You can repeat a string using the `*` operator."
   ]
  },
  {
   "cell_type": "code",
   "execution_count": 14,
   "id": "49e76327",
   "metadata": {},
   "outputs": [
    {
     "name": "stdout",
     "output_type": "stream",
     "text": [
      "Hi! Hi! Hi! \n"
     ]
    }
   ],
   "source": [
    "word = 'Hi! '\n",
    "print(word * 3)"
   ]
  },
  {
   "cell_type": "markdown",
   "id": "59a90ac4",
   "metadata": {},
   "source": [
    "## Slicing Strings\n",
    "You can get parts of a string using slicing: `string[start:end]`. Start is inclusive, end is exclusive."
   ]
  },
  {
   "cell_type": "code",
   "execution_count": 15,
   "id": "f9771ad5",
   "metadata": {},
   "outputs": [
    {
     "name": "stdout",
     "output_type": "stream",
     "text": [
      "Amelia\n",
      "Smith\n",
      "Amel\n"
     ]
    }
   ],
   "source": [
    "text = 'Amelia Smith'\n",
    "print(text[0:6])  # 'Amelia'\n",
    "print(text[7:])   # 'Smith'\n",
    "print(text[:4])   # 'Amel'"
   ]
  },
  {
   "cell_type": "markdown",
   "id": "bd657d0b",
   "metadata": {},
   "source": [
    "## Useful String Methods\n",
    "Python provides many built-in methods to work with strings. Here are a few commonly used ones."
   ]
  },
  {
   "cell_type": "markdown",
   "id": "81cf5c87",
   "metadata": {},
   "source": [
    "### .upper() and .lower()"
   ]
  },
  {
   "cell_type": "code",
   "execution_count": 16,
   "id": "e785824d",
   "metadata": {},
   "outputs": [
    {
     "name": "stdout",
     "output_type": "stream",
     "text": [
      "AMELIA SMITH\n",
      "amelia smith\n"
     ]
    }
   ],
   "source": [
    "name = 'Amelia Smith'\n",
    "print(name.upper())\n",
    "print(name.lower())"
   ]
  },
  {
   "cell_type": "markdown",
   "id": "55907b75",
   "metadata": {},
   "source": [
    "### .capitalize() and .title()"
   ]
  },
  {
   "cell_type": "code",
   "execution_count": 17,
   "id": "72be3250",
   "metadata": {},
   "outputs": [
    {
     "name": "stdout",
     "output_type": "stream",
     "text": [
      "Hello world\n",
      "Hello World\n"
     ]
    }
   ],
   "source": [
    "sentence = 'hello world'\n",
    "print(sentence.capitalize())\n",
    "print(sentence.title())"
   ]
  },
  {
   "cell_type": "markdown",
   "id": "f8a7f055",
   "metadata": {},
   "source": [
    "### .strip()"
   ]
  },
  {
   "cell_type": "code",
   "execution_count": 18,
   "id": "056ade8c",
   "metadata": {},
   "outputs": [
    {
     "name": "stdout",
     "output_type": "stream",
     "text": [
      "Amelia\n"
     ]
    }
   ],
   "source": [
    "text = '   Amelia   '\n",
    "print(text.strip())"
   ]
  },
  {
   "cell_type": "markdown",
   "id": "bb652d2c",
   "metadata": {},
   "source": [
    "### .replace()"
   ]
  },
  {
   "cell_type": "code",
   "execution_count": 19,
   "id": "afcf665d",
   "metadata": {},
   "outputs": [
    {
     "name": "stdout",
     "output_type": "stream",
     "text": [
      "My name is Henry.\n"
     ]
    }
   ],
   "source": [
    "message = 'My name is Amelia.'\n",
    "print(message.replace('Amelia', 'Henry'))"
   ]
  },
  {
   "cell_type": "markdown",
   "id": "0221c5c0",
   "metadata": {},
   "source": [
    "### .find()"
   ]
  },
  {
   "cell_type": "code",
   "execution_count": 20,
   "id": "4b3081aa",
   "metadata": {},
   "outputs": [
    {
     "name": "stdout",
     "output_type": "stream",
     "text": [
      "11\n"
     ]
    }
   ],
   "source": [
    "sentence = 'My name is Amelia.'\n",
    "print(sentence.find('Amelia'))"
   ]
  },
  {
   "cell_type": "markdown",
   "id": "bcfba60b",
   "metadata": {},
   "source": [
    "## Summary\n",
    "- Strings are sequences of characters.\n",
    "- You can use indexing and slicing to work with parts of a string.\n",
    "- You can use `+` to join strings and `*` to repeat them.\n",
    "- String methods like `.upper()`, `.lower()`, `.title()`, `.strip()`, `.replace()`, and `.find()` help you modify and search strings."
   ]
  }
 ],
 "metadata": {
  "kernelspec": {
   "display_name": "Python 3",
   "language": "python",
   "name": "python3"
  },
  "language_info": {
   "codemirror_mode": {
    "name": "ipython",
    "version": 3
   },
   "file_extension": ".py",
   "mimetype": "text/x-python",
   "name": "python",
   "nbconvert_exporter": "python",
   "pygments_lexer": "ipython3",
   "version": "3.9.4"
  }
 },
 "nbformat": 4,
 "nbformat_minor": 5
}
