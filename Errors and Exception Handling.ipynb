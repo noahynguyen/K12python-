{
 "cells": [
  {
   "cell_type": "markdown",
   "id": "44e282b1",
   "metadata": {},
   "source": [
    "# Python Errors and Exception Handling\n",
    "\n",
    "This notebook introduces Python errors and exceptions and explains how to handle them using `try`, `except`, and related keywords.\n",
    "\n",
    "Source: [Python Official Documentation - Errors and Exceptions](https://docs.python.org/3/tutorial/errors.html)"
   ]
  },
  {
   "cell_type": "markdown",
   "id": "c5a8f323",
   "metadata": {},
   "source": [
    "## 1. Syntax Errors\n",
    "\n",
    "Syntax errors are mistakes in how the code is written. Python catches these before it even tries to run the program.\n",
    "\n",
    "Example:"
   ]
  },
  {
   "cell_type": "code",
   "execution_count": 1,
   "id": "c22da631",
   "metadata": {},
   "outputs": [
    {
     "ename": "SyntaxError",
     "evalue": "expected ':' (364522555.py, line 2)",
     "output_type": "error",
     "traceback": [
      "\u001b[1;36m  Cell \u001b[1;32mIn[1], line 2\u001b[1;36m\u001b[0m\n\u001b[1;33m    while True\u001b[0m\n\u001b[1;37m               ^\u001b[0m\n\u001b[1;31mSyntaxError\u001b[0m\u001b[1;31m:\u001b[0m expected ':'\n"
     ]
    }
   ],
   "source": [
    "# Syntax error example (do not run this)\n",
    "while True \n",
    "    print('Hello world')  # Missing colon (:)"
   ]
  },
  {
   "cell_type": "markdown",
   "id": "72c3fc7b",
   "metadata": {},
   "source": [
    "## 2. Exceptions\n",
    "\n",
    "Exceptions are errors that happen while the program is running."
   ]
  },
  {
   "cell_type": "markdown",
   "id": "f3d3a314",
   "metadata": {},
   "source": [
    "\n",
    "## Why Do We Need to Handle Exceptions?\n",
    "\n",
    "In any program, unexpected problems can occur. These problems, called **exceptions**, might include:\n",
    "\n",
    "- Dividing a number by zero\n",
    "- Trying to open a file that does not exist\n",
    "- Using a variable that hasn’t been defined\n",
    "- Giving the wrong type of data to a function (like adding a string to a number)\n",
    "\n",
    "If we do not handle these exceptions, the program will stop running and show an error. This is not a good experience for users.\n",
    "\n",
    "### Reasons to Handle Exceptions:\n",
    "\n",
    "1. **To prevent the program from crashing**  \n",
    "   Handling exceptions allows the program to keep running even when something goes wrong. Instead of crashing, the program can show a helpful message to the user or try something else.\n",
    "\n",
    "2. **To help users understand what went wrong**  \n",
    "   We can display friendly messages like “Please enter a number” instead of a confusing error like `ValueError`.\n",
    "\n",
    "3. **To make the program safer and more reliable**  \n",
    "   Handling exceptions makes your program more stable and professional. It shows that you've thought about what might go wrong and prepared for it.\n",
    "\n",
    "4. **To allow retry or backup plans**  \n",
    "   If something fails (like a file not opening), we can give the user another chance to try again or choose a different option.\n",
    "\n",
    "### Example:\n",
    "If someone enters a word instead of a number:\n",
    "\n",
    "```python\n",
    "try:\n",
    "    age = int(input(\"Enter your age: \"))\n",
    "except ValueError:\n",
    "    print(\"That’s not a number! Please try again.\")\n",
    "```\n",
    "\n",
    "Without the `try...except`, the program would crash. With exception handling, it gives the user another chance.\n",
    "\n",
    "Handling exceptions is an important part of writing strong and user-friendly programs.\n"
   ]
  },
  {
   "cell_type": "markdown",
   "id": "d202fc05",
   "metadata": {},
   "source": [
    "\n",
    "\n",
    "Examples of exceptions:"
   ]
  },
  {
   "cell_type": "code",
   "execution_count": 2,
   "id": "40444369",
   "metadata": {},
   "outputs": [
    {
     "ename": "ZeroDivisionError",
     "evalue": "division by zero",
     "output_type": "error",
     "traceback": [
      "\u001b[1;31m---------------------------------------------------------------------------\u001b[0m",
      "\u001b[1;31mZeroDivisionError\u001b[0m                         Traceback (most recent call last)",
      "Cell \u001b[1;32mIn[2], line 2\u001b[0m\n\u001b[0;32m      1\u001b[0m \u001b[38;5;66;03m# ZeroDivisionError\u001b[39;00m\n\u001b[1;32m----> 2\u001b[0m \u001b[38;5;241m10\u001b[39m \u001b[38;5;241m*\u001b[39m (\u001b[38;5;241;43m1\u001b[39;49m\u001b[43m \u001b[49m\u001b[38;5;241;43m/\u001b[39;49m\u001b[43m \u001b[49m\u001b[38;5;241;43m0\u001b[39;49m)\n",
      "\u001b[1;31mZeroDivisionError\u001b[0m: division by zero"
     ]
    }
   ],
   "source": [
    "# ZeroDivisionError\n",
    "10 * (1 / 0)\n",
    "\n"
   ]
  },
  {
   "cell_type": "code",
   "execution_count": 3,
   "id": "47a439e2",
   "metadata": {},
   "outputs": [
    {
     "ename": "NameError",
     "evalue": "name 'spam' is not defined",
     "output_type": "error",
     "traceback": [
      "\u001b[1;31m---------------------------------------------------------------------------\u001b[0m",
      "\u001b[1;31mNameError\u001b[0m                                 Traceback (most recent call last)",
      "Cell \u001b[1;32mIn[3], line 2\u001b[0m\n\u001b[0;32m      1\u001b[0m \u001b[38;5;66;03m# NameError\u001b[39;00m\n\u001b[1;32m----> 2\u001b[0m \u001b[38;5;241m4\u001b[39m \u001b[38;5;241m+\u001b[39m \u001b[43mspam\u001b[49m \u001b[38;5;241m*\u001b[39m \u001b[38;5;241m3\u001b[39m\n",
      "\u001b[1;31mNameError\u001b[0m: name 'spam' is not defined"
     ]
    }
   ],
   "source": [
    "# NameError\n",
    "4 + spam * 3\n",
    "\n"
   ]
  },
  {
   "cell_type": "code",
   "execution_count": 4,
   "id": "f0d8a619",
   "metadata": {},
   "outputs": [
    {
     "ename": "TypeError",
     "evalue": "can only concatenate str (not \"int\") to str",
     "output_type": "error",
     "traceback": [
      "\u001b[1;31m---------------------------------------------------------------------------\u001b[0m",
      "\u001b[1;31mTypeError\u001b[0m                                 Traceback (most recent call last)",
      "Cell \u001b[1;32mIn[4], line 2\u001b[0m\n\u001b[0;32m      1\u001b[0m \u001b[38;5;66;03m# TypeError\u001b[39;00m\n\u001b[1;32m----> 2\u001b[0m \u001b[38;5;124;43m'\u001b[39;49m\u001b[38;5;124;43m2\u001b[39;49m\u001b[38;5;124;43m'\u001b[39;49m\u001b[43m \u001b[49m\u001b[38;5;241;43m+\u001b[39;49m\u001b[43m \u001b[49m\u001b[38;5;241;43m2\u001b[39;49m\n",
      "\u001b[1;31mTypeError\u001b[0m: can only concatenate str (not \"int\") to str"
     ]
    }
   ],
   "source": [
    "# TypeError\n",
    "'2' + 2"
   ]
  },
  {
   "cell_type": "markdown",
   "id": "e4142a8d",
   "metadata": {},
   "source": [
    "## 3. Handling Exceptions\n",
    "\n",
    "Use `try` and `except` to handle exceptions and prevent your program from crashing."
   ]
  },
  {
   "cell_type": "code",
   "execution_count": null,
   "id": "581c2c6b",
   "metadata": {},
   "outputs": [],
   "source": [
    "while True:\n",
    "    try:\n",
    "        x = int(input(\"Please enter a number: \"))\n",
    "        break\n",
    "    except ValueError:\n",
    "        print(\"Oops! That was not a valid number. Try again...\")"
   ]
  },
  {
   "cell_type": "markdown",
   "id": "e300adfe",
   "metadata": {},
   "source": [
    "## 4. Multiple Exceptions and Else Clause\n",
    "\n",
    "You can catch different types of exceptions and add an `else` clause to handle successful code execution."
   ]
  },
  {
   "cell_type": "code",
   "execution_count": null,
   "id": "f8e88f9f",
   "metadata": {},
   "outputs": [],
   "source": [
    "try:\n",
    "    number = int(input(\"Enter a number: \"))\n",
    "except ValueError:\n",
    "    print(\"Not a number!\")\n",
    "else:\n",
    "    print(\"Great! You entered:\", number)"
   ]
  },
  {
   "cell_type": "markdown",
   "id": "939ad559",
   "metadata": {},
   "source": [
    "## 5. The Finally Clause\n",
    "\n",
    "Code inside `finally` always runs, whether an exception happens or not."
   ]
  },
  {
   "cell_type": "code",
   "execution_count": null,
   "id": "57c8cb13",
   "metadata": {},
   "outputs": [],
   "source": [
    "try:\n",
    "    f = open(\"myfile.txt\")\n",
    "    s = f.readline()\n",
    "    i = int(s.strip())\n",
    "except OSError as err:\n",
    "    print(\"OS error:\", err)\n",
    "except ValueError:\n",
    "    print(\"Could not convert data to an integer.\")\n",
    "finally:\n",
    "    print(\"Finished trying to read the file.\")"
   ]
  },
  {
   "cell_type": "markdown",
   "id": "6cc57100",
   "metadata": {},
   "source": [
    "## Debugging Tips\n",
    "\n",
    "- Read error messages carefully — they tell you where the issue happened.\n",
    "- Use `print()` statements to track variable values.\n",
    "- Test your code in small parts.\n",
    "- Try using `try/except` blocks to prevent program crashes while testing.\n",
    "- Comment out blocks of code to isolate the problem.\n",
    "- Use meaningful variable names to stay organized.\n"
   ]
  },
  {
   "cell_type": "markdown",
   "id": "a793843b",
   "metadata": {},
   "source": [
    "## Exercises\n",
    "\n",
    "1. Write a program that takes two numbers from the user and divides them. Use try/except to handle division by zero.\n",
    "2. Write a program that opens a file and reads the first line. Catch the `FileNotFoundError`.\n",
    "3. Ask the user to enter their age. If they enter something that isn’t a number, ask again.\n",
    "4. Modify the age program to only allow numbers between 1 and 120.\n",
    "5. Create your own custom exception class and raise it when needed (advanced)."
   ]
  }
 ],
 "metadata": {
  "kernelspec": {
   "display_name": "base",
   "language": "python",
   "name": "python3"
  },
  "language_info": {
   "codemirror_mode": {
    "name": "ipython",
    "version": 3
   },
   "file_extension": ".py",
   "mimetype": "text/x-python",
   "name": "python",
   "nbconvert_exporter": "python",
   "pygments_lexer": "ipython3",
   "version": "3.12.7"
  }
 },
 "nbformat": 4,
 "nbformat_minor": 5
}
